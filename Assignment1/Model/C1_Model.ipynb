{
  "nbformat": 4,
  "nbformat_minor": 0,
  "metadata": {
    "colab": {
      "name": "C1_Model.ipynb",
      "provenance": []
    },
    "kernelspec": {
      "name": "python3",
      "display_name": "Python 3"
    },
    "language_info": {
      "name": "python"
    }
  },
  "cells": [
    {
      "cell_type": "code",
      "metadata": {
        "id": "545kgSgWxaIw"
      },
      "source": [
        "#pip install creme\n",
        "import matplotlib.pyplot as plt"
      ],
      "execution_count": 203,
      "outputs": []
    },
    {
      "cell_type": "code",
      "metadata": {
        "colab": {
          "base_uri": "https://localhost:8080/"
        },
        "id": "o9LpFimFyVf3",
        "outputId": "2d80a16a-75ba-4166-8e7f-966563c1bd84"
      },
      "source": [
        "from google.colab import drive \n",
        "drive.mount('/content/drive')"
      ],
      "execution_count": 204,
      "outputs": [
        {
          "output_type": "stream",
          "name": "stdout",
          "text": [
            "Drive already mounted at /content/drive; to attempt to forcibly remount, call drive.mount(\"/content/drive\", force_remount=True).\n"
          ]
        }
      ]
    },
    {
      "cell_type": "markdown",
      "metadata": {
        "id": "f5XS4wpG772h"
      },
      "source": [
        "### Sk-Learn"
      ]
    },
    {
      "cell_type": "code",
      "metadata": {
        "id": "1Ianebm97UbL"
      },
      "source": [
        "pip install -U scikit-multiflow"
      ],
      "execution_count": null,
      "outputs": []
    },
    {
      "cell_type": "code",
      "metadata": {
        "id": "KTa5qyW87SOU"
      },
      "source": [
        "from skmultiflow.data import SEAGenerator\n",
        "from skmultiflow.trees import HoeffdingTreeClassifier"
      ],
      "execution_count": 206,
      "outputs": []
    },
    {
      "cell_type": "code",
      "metadata": {
        "id": "kBh5PTba7wkS"
      },
      "source": [
        "from sklearn.model_selection import train_test_split, GridSearchCV\n",
        "import numpy as np\n",
        "import pandas as pd\n",
        "from skmultiflow.data import DataStream"
      ],
      "execution_count": 207,
      "outputs": []
    },
    {
      "cell_type": "code",
      "metadata": {
        "id": "ol40d2WZ8OdU"
      },
      "source": [
        "data1 = pd.read_csv ('/content/drive/MyDrive/Colab Notebooks/data_1.csv')\n",
        "data2=pd.read_csv('/content/drive/MyDrive/Colab Notebooks/data_2.csv')"
      ],
      "execution_count": 246,
      "outputs": []
    },
    {
      "cell_type": "code",
      "metadata": {
        "id": "WgKqea4mLOio"
      },
      "source": [
        "data1 = data1.drop_duplicates()\n",
        "data2=data2.drop_duplicates()"
      ],
      "execution_count": 248,
      "outputs": []
    },
    {
      "cell_type": "code",
      "metadata": {
        "id": "IIMLb1Qq8GKk"
      },
      "source": [
        "x1=data1.drop(columns=['fetal_health']).astype(np.float32)\n",
        "y1=data1['fetal_health']\n",
        "\n",
        "x2=data2.drop(columns=['fetal_health']).astype(np.float32)\n",
        "y2=data2['fetal_health']"
      ],
      "execution_count": 250,
      "outputs": []
    },
    {
      "cell_type": "code",
      "metadata": {
        "id": "d5Yr7ekjLdbY"
      },
      "source": [
        "for column in list(x1):\n",
        "  x1[column] = (x1[column] - x1[column].min()) / (x1[column].max() - x1[column].min())\n",
        "\n",
        "\n",
        "for column in list(x2):\n",
        "  x2[column] = (x2[column] - x2[column].min()) / (x2[column].max() - x2[column].min())"
      ],
      "execution_count": 251,
      "outputs": []
    },
    {
      "cell_type": "code",
      "metadata": {
        "id": "vOYfFA8l7s50"
      },
      "source": [
        "x_train1,x_test1,y_train1,y_test1=train_test_split(x1,y1,test_size=0.2,random_state=20, stratify=y1)\n",
        "x_train2,x_test2,y_train2,y_test2=train_test_split(x2,y2,test_size=0.2,random_state=20, stratify=y2)"
      ],
      "execution_count": 252,
      "outputs": []
    },
    {
      "cell_type": "code",
      "metadata": {
        "colab": {
          "base_uri": "https://localhost:8080/"
        },
        "id": "VEDAak0hymlF",
        "outputId": "45f89717-9df2-4cb8-957c-395ec9033c21"
      },
      "source": [
        "stream = DataStream(x_train2.to_numpy(), y_train2.to_numpy())\n",
        "vfdt = HoeffdingTreeClassifier()\n",
        "\n",
        "x_train1=x_train1.to_numpy()\n",
        "y_train1=y_train1.to_numpy()\n",
        "vfdt.fit(x_train1,y_train1)\n",
        "\n",
        "# Setup variables to control loop and track performance"
      ],
      "execution_count": 253,
      "outputs": [
        {
          "output_type": "execute_result",
          "data": {
            "text/plain": [
              "HoeffdingTreeClassifier(binary_split=False, grace_period=200,\n",
              "                        leaf_prediction='nba', max_byte_size=33554432,\n",
              "                        memory_estimate_period=1000000, nb_threshold=0,\n",
              "                        no_preprune=False, nominal_attributes=None,\n",
              "                        remove_poor_atts=False, split_confidence=1e-07,\n",
              "                        split_criterion='info_gain', stop_mem_management=False,\n",
              "                        tie_threshold=0.05)"
            ]
          },
          "metadata": {},
          "execution_count": 253
        }
      ]
    },
    {
      "cell_type": "code",
      "metadata": {
        "colab": {
          "base_uri": "https://localhost:8080/"
        },
        "id": "OeatXRANSTvB",
        "outputId": "f820a338-ac25-4f6f-c4b7-53f1752588e5"
      },
      "source": [
        "correct_cnt = 0\n",
        "n_samples = 0\n",
        "\n",
        "stream.restart()\n",
        "stream = DataStream(x_test1.to_numpy(), y_test1.to_numpy())\n",
        "predict_list=[]\n",
        "\n",
        "while stream.has_more_samples():\n",
        "  X, y = stream.next_sample()\n",
        "  y_pred = vfdt.predict(X)\n",
        "  predict_list.append(y_pred)\n",
        "  if y[0] == y_pred[0]:\n",
        "        correct_cnt += 1\n",
        "  n_samples+=1\n",
        "\n",
        "stream.restart()\n",
        "stream= DataStream(x_test2.to_numpy(), y_test2.to_numpy())\n",
        "\n",
        "while stream.has_more_samples():\n",
        "  X, y = stream.next_sample()\n",
        "  y_pred = vfdt.predict(X)\n",
        "  predict_list.append(y_pred)\n",
        "  if y[0] == y_pred[0]:\n",
        "        correct_cnt += 1\n",
        "  n_samples+=1\n",
        "\n",
        "\n",
        "print('Hoeffding Tree accuracy: {}'.format(correct_cnt / n_samples))\n"
      ],
      "execution_count": 254,
      "outputs": [
        {
          "output_type": "stream",
          "name": "stdout",
          "text": [
            "Hoeffding Tree accuracy: 0.8486997635933806\n"
          ]
        }
      ]
    },
    {
      "cell_type": "code",
      "metadata": {
        "colab": {
          "base_uri": "https://localhost:8080/"
        },
        "id": "yA2Q3luGSaVl",
        "outputId": "eb7d1cf9-6f5d-4bef-b113-168fce52172d"
      },
      "source": [
        "from sklearn.metrics import classification_report\n",
        "test_data = pd.concat([y_test1, y_test2],axis=0)\n",
        "print(classification_report(test_data,predict_list))"
      ],
      "execution_count": 255,
      "outputs": [
        {
          "output_type": "stream",
          "name": "stdout",
          "text": [
            "              precision    recall  f1-score   support\n",
            "\n",
            "           1       0.92      0.91      0.91       329\n",
            "           2       0.61      0.76      0.68        59\n",
            "           3       0.65      0.43      0.52        35\n",
            "\n",
            "    accuracy                           0.85       423\n",
            "   macro avg       0.73      0.70      0.70       423\n",
            "weighted avg       0.85      0.85      0.85       423\n",
            "\n"
          ]
        }
      ]
    },
    {
      "cell_type": "markdown",
      "metadata": {
        "id": "OBDM-IReS0V3"
      },
      "source": [
        "### Further Training"
      ]
    },
    {
      "cell_type": "code",
      "metadata": {
        "id": "rmPZ_p008VxU"
      },
      "source": [
        "while stream.has_more_samples():\n",
        "  X, y = stream.next_sample()\n",
        "  vfdt = vfdt.partial_fit(X, y)"
      ],
      "execution_count": 256,
      "outputs": []
    },
    {
      "cell_type": "code",
      "metadata": {
        "colab": {
          "base_uri": "https://localhost:8080/"
        },
        "id": "kx7VkqAq9lmt",
        "outputId": "987e2271-2c35-4f0f-deef-71abd8a14c9c"
      },
      "source": [
        "correct_cnt = 0\n",
        "n_samples = 0\n",
        "\n",
        "stream.restart()\n",
        "stream = DataStream(x_test1.to_numpy(), y_test1.to_numpy())\n",
        "predict_list=[]\n",
        "\n",
        "while stream.has_more_samples():\n",
        "  X, y = stream.next_sample()\n",
        "  y_pred = vfdt.predict(X)\n",
        "  predict_list.append(y_pred)\n",
        "  if y[0] == y_pred[0]:\n",
        "        correct_cnt += 1\n",
        "  n_samples+=1\n",
        "\n",
        "stream.restart()\n",
        "stream= DataStream(x_test2.to_numpy(), y_test2.to_numpy())\n",
        "\n",
        "while stream.has_more_samples():\n",
        "  X, y = stream.next_sample()\n",
        "  y_pred = vfdt.predict(X)\n",
        "  predict_list.append(y_pred)\n",
        "  if y[0] == y_pred[0]:\n",
        "        correct_cnt += 1\n",
        "  n_samples+=1\n",
        "\n",
        "\n",
        "print('Hoeffding Tree accuracy: {}'.format(correct_cnt / n_samples))"
      ],
      "execution_count": 257,
      "outputs": [
        {
          "output_type": "stream",
          "name": "stdout",
          "text": [
            "Hoeffding Tree accuracy: 0.8486997635933806\n"
          ]
        }
      ]
    },
    {
      "cell_type": "code",
      "metadata": {
        "id": "aEN7igMKPhFE"
      },
      "source": [
        "from sklearn.metrics import classification_report"
      ],
      "execution_count": 258,
      "outputs": []
    },
    {
      "cell_type": "code",
      "metadata": {
        "id": "1WqV61rMQRur"
      },
      "source": [
        "test_data = pd.concat([y_test1, y_test2],axis=0)"
      ],
      "execution_count": 259,
      "outputs": []
    },
    {
      "cell_type": "code",
      "metadata": {
        "colab": {
          "base_uri": "https://localhost:8080/"
        },
        "id": "Lp7LLfc5N4XB",
        "outputId": "e827a33b-1e62-41d9-acde-ecd0cb24c934"
      },
      "source": [
        "print(classification_report(test_data,predict_list))"
      ],
      "execution_count": 261,
      "outputs": [
        {
          "output_type": "stream",
          "name": "stdout",
          "text": [
            "              precision    recall  f1-score   support\n",
            "\n",
            "           1       0.92      0.91      0.91       329\n",
            "           2       0.61      0.76      0.68        59\n",
            "           3       0.65      0.43      0.52        35\n",
            "\n",
            "    accuracy                           0.85       423\n",
            "   macro avg       0.73      0.70      0.70       423\n",
            "weighted avg       0.85      0.85      0.85       423\n",
            "\n"
          ]
        }
      ]
    },
    {
      "cell_type": "code",
      "metadata": {
        "id": "wasrmFEcP1hw"
      },
      "source": [
        ""
      ],
      "execution_count": null,
      "outputs": []
    }
  ]
}