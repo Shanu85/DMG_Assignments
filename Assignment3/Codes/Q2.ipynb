{
  "nbformat": 4,
  "nbformat_minor": 0,
  "metadata": {
    "colab": {
      "name": "Reference_DMG",
      "provenance": [],
      "collapsed_sections": [
        "lPuq4dszlpSj"
      ]
    },
    "kernelspec": {
      "name": "python3",
      "display_name": "Python 3"
    },
    "language_info": {
      "name": "python"
    }
  },
  "cells": [
    {
      "cell_type": "code",
      "metadata": {
        "id": "fibAm3LnFWD3",
        "colab": {
          "base_uri": "https://localhost:8080/"
        },
        "outputId": "547089b0-0a64-46cb-fa89-4d7092a006dc"
      },
      "source": [
        "from google.colab import drive \n",
        "drive.mount('/content/drive')"
      ],
      "execution_count": 6,
      "outputs": [
        {
          "output_type": "stream",
          "name": "stdout",
          "text": [
            "Drive already mounted at /content/drive; to attempt to forcibly remount, call drive.mount(\"/content/drive\", force_remount=True).\n"
          ]
        }
      ]
    },
    {
      "cell_type": "code",
      "metadata": {
        "id": "4Rn5xoOuFixH",
        "colab": {
          "base_uri": "https://localhost:8080/"
        },
        "outputId": "12e0b306-24d3-4ddf-f55b-c5eaca2f0e48"
      },
      "source": [
        "!pip install category_encoders"
      ],
      "execution_count": 7,
      "outputs": [
        {
          "output_type": "stream",
          "name": "stdout",
          "text": [
            "Requirement already satisfied: category_encoders in /usr/local/lib/python3.7/dist-packages (2.3.0)\n",
            "Requirement already satisfied: patsy>=0.5.1 in /usr/local/lib/python3.7/dist-packages (from category_encoders) (0.5.2)\n",
            "Requirement already satisfied: statsmodels>=0.9.0 in /usr/local/lib/python3.7/dist-packages (from category_encoders) (0.10.2)\n",
            "Requirement already satisfied: scikit-learn>=0.20.0 in /usr/local/lib/python3.7/dist-packages (from category_encoders) (1.0.1)\n",
            "Requirement already satisfied: numpy>=1.14.0 in /usr/local/lib/python3.7/dist-packages (from category_encoders) (1.19.5)\n",
            "Requirement already satisfied: pandas>=0.21.1 in /usr/local/lib/python3.7/dist-packages (from category_encoders) (1.1.5)\n",
            "Requirement already satisfied: scipy>=1.0.0 in /usr/local/lib/python3.7/dist-packages (from category_encoders) (1.4.1)\n",
            "Requirement already satisfied: pytz>=2017.2 in /usr/local/lib/python3.7/dist-packages (from pandas>=0.21.1->category_encoders) (2018.9)\n",
            "Requirement already satisfied: python-dateutil>=2.7.3 in /usr/local/lib/python3.7/dist-packages (from pandas>=0.21.1->category_encoders) (2.8.2)\n",
            "Requirement already satisfied: six in /usr/local/lib/python3.7/dist-packages (from patsy>=0.5.1->category_encoders) (1.15.0)\n",
            "Requirement already satisfied: joblib>=0.11 in /usr/local/lib/python3.7/dist-packages (from scikit-learn>=0.20.0->category_encoders) (1.1.0)\n",
            "Requirement already satisfied: threadpoolctl>=2.0.0 in /usr/local/lib/python3.7/dist-packages (from scikit-learn>=0.20.0->category_encoders) (3.0.0)\n"
          ]
        }
      ]
    },
    {
      "cell_type": "code",
      "metadata": {
        "id": "W2MQWQUpFmNx",
        "colab": {
          "base_uri": "https://localhost:8080/"
        },
        "outputId": "519982fb-34a7-43d1-82c4-8404302dae0b"
      },
      "source": [
        "pip install scikit-learn-extra"
      ],
      "execution_count": 8,
      "outputs": [
        {
          "output_type": "stream",
          "name": "stdout",
          "text": [
            "Requirement already satisfied: scikit-learn-extra in /usr/local/lib/python3.7/dist-packages (0.2.0)\n",
            "Requirement already satisfied: numpy>=1.13.3 in /usr/local/lib/python3.7/dist-packages (from scikit-learn-extra) (1.19.5)\n",
            "Requirement already satisfied: scikit-learn>=0.23.0 in /usr/local/lib/python3.7/dist-packages (from scikit-learn-extra) (1.0.1)\n",
            "Requirement already satisfied: scipy>=0.19.1 in /usr/local/lib/python3.7/dist-packages (from scikit-learn-extra) (1.4.1)\n",
            "Requirement already satisfied: threadpoolctl>=2.0.0 in /usr/local/lib/python3.7/dist-packages (from scikit-learn>=0.23.0->scikit-learn-extra) (3.0.0)\n",
            "Requirement already satisfied: joblib>=0.11 in /usr/local/lib/python3.7/dist-packages (from scikit-learn>=0.23.0->scikit-learn-extra) (1.1.0)\n"
          ]
        }
      ]
    },
    {
      "cell_type": "code",
      "metadata": {
        "id": "L_ecLSeiFfRW"
      },
      "source": [
        "import numpy as np\n",
        "import pandas as pd\n",
        "import matplotlib.pyplot as plt\n",
        "import scipy.stats\n",
        "import seaborn as sns\n",
        "sns.set_style('darkgrid')\n",
        "\n",
        "from category_encoders import OrdinalEncoder\n",
        "\n",
        "import pickle\n",
        "\n",
        "from sklearn.cluster import KMeans\n",
        "from sklearn.decomposition import PCA\n",
        "from sklearn.model_selection import train_test_split\n",
        "from sklearn.mixture import GaussianMixture\n",
        "from sklearn.cluster import DBSCAN"
      ],
      "execution_count": 9,
      "outputs": []
    },
    {
      "cell_type": "code",
      "metadata": {
        "id": "0ABTKEqulEGi"
      },
      "source": [
        "covtype_df = pd.read_csv(\"/content/drive/MyDrive/DMG Assignment 3/covtype_train.csv\", skipinitialspace=True)"
      ],
      "execution_count": 10,
      "outputs": []
    },
    {
      "cell_type": "markdown",
      "metadata": {
        "id": "FoNtOqQUlktF"
      },
      "source": [
        "### Preprocessing"
      ]
    },
    {
      "cell_type": "code",
      "metadata": {
        "colab": {
          "base_uri": "https://localhost:8080/"
        },
        "id": "XJLPenK1lnq4",
        "outputId": "e58f9126-8050-4d89-cca9-608963c1735d"
      },
      "source": [
        "covtype_df.isna().sum()"
      ],
      "execution_count": 11,
      "outputs": [
        {
          "output_type": "execute_result",
          "data": {
            "text/plain": [
              "Elevation                             0\n",
              "Aspect                                0\n",
              "Slope                                 0\n",
              "Hillshade_9am                         0\n",
              "Hillshade_Noon                        0\n",
              "Horizontal_Distance_To_Hydrology      0\n",
              "Vertical_Distance_To_Hydrology        0\n",
              "Horizontal_Distance_To_Fire_Points    0\n",
              "Soil_Type                             0\n",
              "Wilderness                            0\n",
              "target                                0\n",
              "dtype: int64"
            ]
          },
          "metadata": {},
          "execution_count": 11
        }
      ]
    },
    {
      "cell_type": "code",
      "metadata": {
        "id": "nfzg9SrxloeK"
      },
      "source": [
        "# no of uniuqe values correpsonding to each column\n",
        "columns = list(covtype_df)\n",
        "\n",
        "total_count = covtype_df.shape[0]\n",
        "for column in columns:\n",
        "  skewed_percentage = len(covtype_df[covtype_df[column] == covtype_df[column].mode()[0]]) * 100/ total_count"
      ],
      "execution_count": 12,
      "outputs": []
    },
    {
      "cell_type": "code",
      "metadata": {
        "colab": {
          "base_uri": "https://localhost:8080/"
        },
        "id": "yDP9-w8nl1MN",
        "outputId": "085f8d2c-8c25-4262-80fe-7588fb2933d0"
      },
      "source": [
        "skewed_columns=['Hillshade_9am', 'Hillshade_Noon','Elevation']\n",
        "covtype_df.drop(columns=skewed_columns, inplace=True)\n",
        "covtype_df.shape"
      ],
      "execution_count": 13,
      "outputs": [
        {
          "output_type": "execute_result",
          "data": {
            "text/plain": [
              "(406708, 8)"
            ]
          },
          "metadata": {},
          "execution_count": 13
        }
      ]
    },
    {
      "cell_type": "code",
      "metadata": {
        "id": "JAi1JSJTl1oj"
      },
      "source": [
        "encoding_scheme = { 'Aspect': {'aspect_low': 0, 'aspect_medium': 1, 'aspect_high': 2, 'aspect_ultra': 3},\n",
        "                    'Slope': {'slope_low': 0, 'slope_medium': 1, 'slope_high': 2, 'slope_ultra': 3},\n",
        "                    'Horizontal_Distance_To_Fire_Points': {'low': 0, 'mid': 1, 'high': 2}\n",
        "                   }\n",
        "\n",
        "categorical_col = ['Aspect', 'Slope', 'Horizontal_Distance_To_Fire_Points']"
      ],
      "execution_count": 14,
      "outputs": []
    },
    {
      "cell_type": "code",
      "metadata": {
        "colab": {
          "base_uri": "https://localhost:8080/",
          "height": 423
        },
        "id": "iduT30frl2Bp",
        "outputId": "c9e4156f-65d6-47f7-b8bf-3fae7f69e8d0"
      },
      "source": [
        "for column in categorical_col:\n",
        "  encoder = OrdinalEncoder(cols = column, return_df = True, mapping=[{'col':column, 'mapping':encoding_scheme[column]}])\n",
        "  covtype_df[column] = encoder.fit_transform(covtype_df[column])\n",
        "  covtype_df[column] = covtype_df[column].astype(np.int64)\n",
        "\n",
        "covtype_df"
      ],
      "execution_count": 15,
      "outputs": [
        {
          "output_type": "execute_result",
          "data": {
            "text/html": [
              "<div>\n",
              "<style scoped>\n",
              "    .dataframe tbody tr th:only-of-type {\n",
              "        vertical-align: middle;\n",
              "    }\n",
              "\n",
              "    .dataframe tbody tr th {\n",
              "        vertical-align: top;\n",
              "    }\n",
              "\n",
              "    .dataframe thead th {\n",
              "        text-align: right;\n",
              "    }\n",
              "</style>\n",
              "<table border=\"1\" class=\"dataframe\">\n",
              "  <thead>\n",
              "    <tr style=\"text-align: right;\">\n",
              "      <th></th>\n",
              "      <th>Aspect</th>\n",
              "      <th>Slope</th>\n",
              "      <th>Horizontal_Distance_To_Hydrology</th>\n",
              "      <th>Vertical_Distance_To_Hydrology</th>\n",
              "      <th>Horizontal_Distance_To_Fire_Points</th>\n",
              "      <th>Soil_Type</th>\n",
              "      <th>Wilderness</th>\n",
              "      <th>target</th>\n",
              "    </tr>\n",
              "  </thead>\n",
              "  <tbody>\n",
              "    <tr>\n",
              "      <th>0</th>\n",
              "      <td>1</td>\n",
              "      <td>0</td>\n",
              "      <td>0</td>\n",
              "      <td>1</td>\n",
              "      <td>0</td>\n",
              "      <td>22</td>\n",
              "      <td>0</td>\n",
              "      <td>2</td>\n",
              "    </tr>\n",
              "    <tr>\n",
              "      <th>1</th>\n",
              "      <td>1</td>\n",
              "      <td>0</td>\n",
              "      <td>1</td>\n",
              "      <td>1</td>\n",
              "      <td>1</td>\n",
              "      <td>32</td>\n",
              "      <td>2</td>\n",
              "      <td>1</td>\n",
              "    </tr>\n",
              "    <tr>\n",
              "      <th>2</th>\n",
              "      <td>0</td>\n",
              "      <td>0</td>\n",
              "      <td>1</td>\n",
              "      <td>1</td>\n",
              "      <td>0</td>\n",
              "      <td>10</td>\n",
              "      <td>2</td>\n",
              "      <td>2</td>\n",
              "    </tr>\n",
              "    <tr>\n",
              "      <th>3</th>\n",
              "      <td>3</td>\n",
              "      <td>1</td>\n",
              "      <td>2</td>\n",
              "      <td>1</td>\n",
              "      <td>0</td>\n",
              "      <td>23</td>\n",
              "      <td>2</td>\n",
              "      <td>1</td>\n",
              "    </tr>\n",
              "    <tr>\n",
              "      <th>4</th>\n",
              "      <td>2</td>\n",
              "      <td>0</td>\n",
              "      <td>2</td>\n",
              "      <td>1</td>\n",
              "      <td>1</td>\n",
              "      <td>28</td>\n",
              "      <td>0</td>\n",
              "      <td>2</td>\n",
              "    </tr>\n",
              "    <tr>\n",
              "      <th>...</th>\n",
              "      <td>...</td>\n",
              "      <td>...</td>\n",
              "      <td>...</td>\n",
              "      <td>...</td>\n",
              "      <td>...</td>\n",
              "      <td>...</td>\n",
              "      <td>...</td>\n",
              "      <td>...</td>\n",
              "    </tr>\n",
              "    <tr>\n",
              "      <th>406703</th>\n",
              "      <td>1</td>\n",
              "      <td>0</td>\n",
              "      <td>1</td>\n",
              "      <td>1</td>\n",
              "      <td>1</td>\n",
              "      <td>39</td>\n",
              "      <td>0</td>\n",
              "      <td>7</td>\n",
              "    </tr>\n",
              "    <tr>\n",
              "      <th>406704</th>\n",
              "      <td>0</td>\n",
              "      <td>1</td>\n",
              "      <td>0</td>\n",
              "      <td>1</td>\n",
              "      <td>1</td>\n",
              "      <td>28</td>\n",
              "      <td>0</td>\n",
              "      <td>2</td>\n",
              "    </tr>\n",
              "    <tr>\n",
              "      <th>406705</th>\n",
              "      <td>1</td>\n",
              "      <td>0</td>\n",
              "      <td>0</td>\n",
              "      <td>1</td>\n",
              "      <td>1</td>\n",
              "      <td>28</td>\n",
              "      <td>0</td>\n",
              "      <td>2</td>\n",
              "    </tr>\n",
              "    <tr>\n",
              "      <th>406706</th>\n",
              "      <td>2</td>\n",
              "      <td>0</td>\n",
              "      <td>2</td>\n",
              "      <td>2</td>\n",
              "      <td>0</td>\n",
              "      <td>28</td>\n",
              "      <td>0</td>\n",
              "      <td>2</td>\n",
              "    </tr>\n",
              "    <tr>\n",
              "      <th>406707</th>\n",
              "      <td>3</td>\n",
              "      <td>0</td>\n",
              "      <td>0</td>\n",
              "      <td>1</td>\n",
              "      <td>0</td>\n",
              "      <td>30</td>\n",
              "      <td>2</td>\n",
              "      <td>2</td>\n",
              "    </tr>\n",
              "  </tbody>\n",
              "</table>\n",
              "<p>406708 rows × 8 columns</p>\n",
              "</div>"
            ],
            "text/plain": [
              "        Aspect  Slope  ...  Wilderness  target\n",
              "0            1      0  ...           0       2\n",
              "1            1      0  ...           2       1\n",
              "2            0      0  ...           2       2\n",
              "3            3      1  ...           2       1\n",
              "4            2      0  ...           0       2\n",
              "...        ...    ...  ...         ...     ...\n",
              "406703       1      0  ...           0       7\n",
              "406704       0      1  ...           0       2\n",
              "406705       1      0  ...           0       2\n",
              "406706       2      0  ...           0       2\n",
              "406707       3      0  ...           2       2\n",
              "\n",
              "[406708 rows x 8 columns]"
            ]
          },
          "metadata": {},
          "execution_count": 15
        }
      ]
    },
    {
      "cell_type": "code",
      "metadata": {
        "id": "mjI0TKIGmw1h"
      },
      "source": [
        "target_df = pd.DataFrame(covtype_df['target'], columns=['target'])\n",
        "covtype_df.drop(['target'], axis=1, inplace=True)"
      ],
      "execution_count": 16,
      "outputs": []
    },
    {
      "cell_type": "code",
      "metadata": {
        "id": "UUIi45FnnX7T"
      },
      "source": [
        "saved_columns = list(covtype_df)"
      ],
      "execution_count": 17,
      "outputs": []
    },
    {
      "cell_type": "code",
      "metadata": {
        "colab": {
          "base_uri": "https://localhost:8080/"
        },
        "id": "jCFYf6-8odRq",
        "outputId": "015a486d-1597-4438-f66f-dc6618db8a0c"
      },
      "source": [
        "components = 2\n",
        "pca = PCA(n_components = components)\n",
        "pca_data = pca.fit_transform(covtype_df)\n",
        "print('Total Variance Explained:', round(sum(list(pca.explained_variance_ratio_))*100, 2))"
      ],
      "execution_count": 18,
      "outputs": [
        {
          "output_type": "stream",
          "name": "stdout",
          "text": [
            "Total Variance Explained: 97.03\n"
          ]
        }
      ]
    },
    {
      "cell_type": "code",
      "metadata": {
        "id": "zHcvYsFjodFM"
      },
      "source": [
        "pca_columns = []\n",
        "for (item1, item2) in zip(['Feature '] * components, np.arange(1, components + 1, 1)):\n",
        "    pca_columns.append(item1 + str(item2))"
      ],
      "execution_count": 19,
      "outputs": []
    },
    {
      "cell_type": "code",
      "metadata": {
        "colab": {
          "base_uri": "https://localhost:8080/",
          "height": 423
        },
        "id": "hfveYJJOoc-Z",
        "outputId": "ca6a3d21-4eb3-487c-cd0d-daa6758af96c"
      },
      "source": [
        "pca_covtype_df = pd.DataFrame(pca_data, columns=pca_columns)\n",
        "pca_covtype_df"
      ],
      "execution_count": 20,
      "outputs": [
        {
          "output_type": "execute_result",
          "data": {
            "text/html": [
              "<div>\n",
              "<style scoped>\n",
              "    .dataframe tbody tr th:only-of-type {\n",
              "        vertical-align: middle;\n",
              "    }\n",
              "\n",
              "    .dataframe tbody tr th {\n",
              "        vertical-align: top;\n",
              "    }\n",
              "\n",
              "    .dataframe thead th {\n",
              "        text-align: right;\n",
              "    }\n",
              "</style>\n",
              "<table border=\"1\" class=\"dataframe\">\n",
              "  <thead>\n",
              "    <tr style=\"text-align: right;\">\n",
              "      <th></th>\n",
              "      <th>Feature 1</th>\n",
              "      <th>Feature 2</th>\n",
              "    </tr>\n",
              "  </thead>\n",
              "  <tbody>\n",
              "    <tr>\n",
              "      <th>0</th>\n",
              "      <td>1.342248</td>\n",
              "      <td>-0.923441</td>\n",
              "    </tr>\n",
              "    <tr>\n",
              "      <th>1</th>\n",
              "      <td>-8.614018</td>\n",
              "      <td>0.180692</td>\n",
              "    </tr>\n",
              "    <tr>\n",
              "      <th>2</th>\n",
              "      <td>13.374979</td>\n",
              "      <td>-0.746873</td>\n",
              "    </tr>\n",
              "    <tr>\n",
              "      <th>3</th>\n",
              "      <td>0.366850</td>\n",
              "      <td>2.190031</td>\n",
              "    </tr>\n",
              "    <tr>\n",
              "      <th>4</th>\n",
              "      <td>-4.700183</td>\n",
              "      <td>0.252533</td>\n",
              "    </tr>\n",
              "    <tr>\n",
              "      <th>...</th>\n",
              "      <td>...</td>\n",
              "      <td>...</td>\n",
              "    </tr>\n",
              "    <tr>\n",
              "      <th>406703</th>\n",
              "      <td>-15.670398</td>\n",
              "      <td>-0.682137</td>\n",
              "    </tr>\n",
              "    <tr>\n",
              "      <th>406704</th>\n",
              "      <td>-4.650416</td>\n",
              "      <td>-1.756897</td>\n",
              "    </tr>\n",
              "    <tr>\n",
              "      <th>406705</th>\n",
              "      <td>-4.657418</td>\n",
              "      <td>-0.996850</td>\n",
              "    </tr>\n",
              "    <tr>\n",
              "      <th>406706</th>\n",
              "      <td>-4.699261</td>\n",
              "      <td>0.484306</td>\n",
              "    </tr>\n",
              "    <tr>\n",
              "      <th>406707</th>\n",
              "      <td>-6.592326</td>\n",
              "      <td>1.770882</td>\n",
              "    </tr>\n",
              "  </tbody>\n",
              "</table>\n",
              "<p>406708 rows × 2 columns</p>\n",
              "</div>"
            ],
            "text/plain": [
              "        Feature 1  Feature 2\n",
              "0        1.342248  -0.923441\n",
              "1       -8.614018   0.180692\n",
              "2       13.374979  -0.746873\n",
              "3        0.366850   2.190031\n",
              "4       -4.700183   0.252533\n",
              "...           ...        ...\n",
              "406703 -15.670398  -0.682137\n",
              "406704  -4.650416  -1.756897\n",
              "406705  -4.657418  -0.996850\n",
              "406706  -4.699261   0.484306\n",
              "406707  -6.592326   1.770882\n",
              "\n",
              "[406708 rows x 2 columns]"
            ]
          },
          "metadata": {},
          "execution_count": 20
        }
      ]
    },
    {
      "cell_type": "code",
      "metadata": {
        "id": "_a-hN0NxpsNK"
      },
      "source": [
        "# freq based sorted out the cluster labels\n",
        "sorted_actual_labels = target_df['target'].value_counts().sort_values(ascending=False).index.to_numpy()"
      ],
      "execution_count": 21,
      "outputs": []
    },
    {
      "cell_type": "code",
      "metadata": {
        "id": "hur9Gb3WpksD"
      },
      "source": [
        "def mapped_labels(labels):\n",
        "  sorted_pred_labels = pd.Series(labels).value_counts().sort_values(ascending=False).index.to_numpy()\n",
        "  mapping_dict = dict(zip(sorted_pred_labels, sorted_actual_labels))\n",
        "\n",
        "  return pd.Series(labels).replace(mapping_dict)"
      ],
      "execution_count": 22,
      "outputs": []
    },
    {
      "cell_type": "code",
      "metadata": {
        "id": "tqExVAa6ocq1"
      },
      "source": [
        "gmm = GaussianMixture(n_components=7, covariance_type='full', random_state=42)"
      ],
      "execution_count": 23,
      "outputs": []
    },
    {
      "cell_type": "code",
      "metadata": {
        "colab": {
          "base_uri": "https://localhost:8080/"
        },
        "id": "S3kFepan8s5Q",
        "outputId": "c65351d9-2c41-45de-e915-0a5ecda10b67"
      },
      "source": [
        "gmm.fit(pca_covtype_df)"
      ],
      "execution_count": 24,
      "outputs": [
        {
          "output_type": "execute_result",
          "data": {
            "text/plain": [
              "GaussianMixture(n_components=7, random_state=42)"
            ]
          },
          "metadata": {},
          "execution_count": 24
        }
      ]
    },
    {
      "cell_type": "code",
      "metadata": {
        "id": "LW8904vGpRbB"
      },
      "source": [
        "# save the model to disk\n",
        "pickle.dump(gmm, open(\"q2.pkl\", \"wb\"))"
      ],
      "execution_count": 26,
      "outputs": []
    },
    {
      "cell_type": "markdown",
      "metadata": {
        "id": "lPuq4dszlpSj"
      },
      "source": [
        "### Question 2"
      ]
    },
    {
      "cell_type": "code",
      "metadata": {
        "id": "kn_UhW0JFKKD"
      },
      "source": [
        "'''DO NOT DELETE ANY PART OF CODE\n",
        "We will run only the evaluation function.\n",
        "\n",
        "Do not put anything outside of the functions, it will take time in evaluation.\n",
        "You will have to create another code file to run the necessary code.\n",
        "'''\n",
        "\n",
        "# import statements\n",
        "\n",
        "# other functions\n",
        "\n",
        "def predict(test_set) :\n",
        "    # find and load your best model\n",
        "    # Do all preprocessings inside this function only.\n",
        "    # predict on the test set provided\n",
        "    '''\n",
        "    'test_set' is a csv path \"test.csv\", You need to read the csv and predict using your model.\n",
        "    '''\n",
        "    \n",
        "    # Read csv file\n",
        "    test_df=pd.read_csv(test_set)\n",
        "\n",
        "    # Droping some Columns\n",
        "    test_df.drop(columns=['Hillshade_9am', 'Hillshade_Noon','Elevation'], inplace=True)\n",
        "\n",
        "    # converting string values to int\n",
        "    encoding_scheme = { 'Aspect': {'aspect_low': 0, 'aspect_medium': 1, 'aspect_high': 2, 'aspect_ultra': 3},\n",
        "                    'Slope': {'slope_low': 0, 'slope_medium': 1, 'slope_high': 2, 'slope_ultra': 3},\n",
        "                    'Horizontal_Distance_To_Fire_Points': {'low': 0, 'mid': 1, 'high': 2}\n",
        "                   }\n",
        "\n",
        "    categorical_col = ['Aspect', 'Slope', 'Horizontal_Distance_To_Fire_Points']\n",
        "\n",
        "\n",
        "    for column in categorical_col:\n",
        "      encoder = OrdinalEncoder(cols = column, return_df = True, mapping=[{'col':column, 'mapping':encoding_scheme[column]}])\n",
        "      test_df[column] = encoder.fit_transform(test_df[column])\n",
        "      test_df[column] = test_df[column].astype(np.int64)\n",
        "\n",
        "    # PCA Encoding\n",
        "    components = 2\n",
        "    pca = PCA(n_components = components)\n",
        "    pca_data = pca.fit_transform(test_df)\n",
        "\n",
        "    pca_columns = []\n",
        "    for (item1, item2) in zip(['Feature '] * components, np.arange(1, components + 1, 1)):\n",
        "        pca_columns.append(item1 + str(item2))\n",
        "\n",
        "    pca_covtype_df = pd.DataFrame(pca_data, columns=pca_columns)\n",
        "\n",
        "    gmm = pickle.load(open(\"q2.pkl\", 'rb'))\n",
        "    gmm_labels=gmm.predict(pca_covtype_df)\n",
        "    gmm_labels = mapped_labels(gmm_labels)\n",
        "\n",
        "    '''\n",
        "    prediction is a 1D 'list' of output labels. just a single python list.\n",
        "    '''\n",
        "    return gmm_labels.tolist()"
      ],
      "execution_count": 27,
      "outputs": []
    },
    {
      "cell_type": "code",
      "metadata": {
        "id": "_NQj1uf2FQ9u"
      },
      "source": [
        "ans=predict(\"/content/drive/MyDrive/DMG Assignment 3/covtype_train.csv\")"
      ],
      "execution_count": 28,
      "outputs": []
    },
    {
      "cell_type": "code",
      "metadata": {
        "id": "b9lf_DSiGB9y",
        "colab": {
          "base_uri": "https://localhost:8080/"
        },
        "outputId": "71b828da-0595-4d00-eae6-efa50a27536e"
      },
      "source": [
        "set(ans)"
      ],
      "execution_count": 30,
      "outputs": [
        {
          "output_type": "execute_result",
          "data": {
            "text/plain": [
              "{1, 2, 3, 4, 5, 6, 7}"
            ]
          },
          "metadata": {},
          "execution_count": 30
        }
      ]
    }
  ]
}